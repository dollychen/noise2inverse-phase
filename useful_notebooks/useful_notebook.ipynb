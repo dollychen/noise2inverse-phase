{
 "cells": [
  {
   "cell_type": "code",
   "execution_count": null,
   "metadata": {},
   "outputs": [],
   "source": [
    "import zipfile\n",
    "import os\n",
    "\n",
    "# Define the directory containing the zip files and the output directory\n",
    "zip_dir = r'D:\\Dolly\\A.Study\\data\\kidney_left\\2021_17\\25.14um\\recon\\orig_recon_joseph\\all\\split_2\\1_zipped'\n",
    "output_dir = r'D:\\Dolly\\A.Study\\data\\kidney_left\\2021_17\\25.14um\\recon\\orig_recon_joseph\\all\\split_2\\1'\n",
    "# Create the output directory if it doesn't exist\n",
    "if not os.path.exists(output_dir):\n",
    "    os.makedirs(output_dir)\n",
    "\n",
    "# Iterate over all the files in the zip directory\n",
    "for filename in os.listdir(zip_dir):\n",
    "    if filename.endswith('.zip'):\n",
    "        zip_path = os.path.join(zip_dir, filename)\n",
    "        with zipfile.ZipFile(zip_path, 'r') as zip_ref:\n",
    "            zip_ref.extractall(output_dir)\n",
    "\n",
    "print(\"All files have been unzipped successfully.\")"
   ]
  }
 ],
 "metadata": {
  "kernelspec": {
   "display_name": "noise2inverse-torch1.7",
   "language": "python",
   "name": "python3"
  },
  "language_info": {
   "codemirror_mode": {
    "name": "ipython",
    "version": 3
   },
   "file_extension": ".py",
   "mimetype": "text/x-python",
   "name": "python",
   "nbconvert_exporter": "python",
   "pygments_lexer": "ipython3",
   "version": "3.7.16"
  }
 },
 "nbformat": 4,
 "nbformat_minor": 2
}
